{
 "cells": [
  {
   "cell_type": "code",
   "execution_count": 2,
   "metadata": {},
   "outputs": [],
   "source": [
    "from __future__ import generator_stop\n",
    "\n",
    "import unittest\n",
    "\n",
    "from tatsu.exceptions import FailedParse\n",
    "from tatsu.tool import compile\n",
    "from tatsu.util import trim\n",
    "from tatsu.codegen import codegen\n",
    "from tatsu.grammars import EBNFBuffer\n",
    "\n",
    "\n"
   ]
  },
  {
   "cell_type": "code",
   "execution_count": 13,
   "metadata": {},
   "outputs": [],
   "source": [
    "\n",
    "grammar = '''\n",
    "    foo = name:\"1\" [ name: bar ] ;\n",
    "    bar = { \"2\" } * ;\n",
    "'''\n",
    "m = compile(grammar, 'Keywords')\n",
    "ast = m.parse('1 2')"
   ]
  },
  {
   "cell_type": "code",
   "execution_count": 5,
   "metadata": {},
   "outputs": [],
   "source": [
    "from pprint import pprint"
   ]
  },
  {
   "cell_type": "code",
   "execution_count": 6,
   "metadata": {},
   "outputs": [
    {
     "name": "stdout",
     "output_type": "stream",
     "text": [
      "{'name': ['1', ['2']]}\n"
     ]
    }
   ],
   "source": [
    "pprint(ast)"
   ]
  },
  {
   "cell_type": "code",
   "execution_count": 33,
   "metadata": {},
   "outputs": [],
   "source": [
    "grammar = '''\n",
    "            @@whitespace :: /[\\t ]+/\n",
    "            \n",
    "            test = \"test:asdf+\" $;\n",
    "        '''\n",
    "        "
   ]
  },
  {
   "cell_type": "code",
   "execution_count": 34,
   "metadata": {},
   "outputs": [],
   "source": [
    "import tatsu\n",
    "model = tatsu.compile(grammar, \"test\")\n",
    "        \n"
   ]
  },
  {
   "cell_type": "code",
   "execution_count": 36,
   "metadata": {},
   "outputs": [],
   "source": [
    "ast = model.parse('test:asdf+')"
   ]
  },
  {
   "cell_type": "code",
   "execution_count": 118,
   "metadata": {},
   "outputs": [
    {
     "data": {
      "text/plain": [
       "['hello Øresundsadfasdfc      A44', ':', '4 A']"
      ]
     },
     "execution_count": 118,
     "metadata": {},
     "output_type": "execute_result"
    }
   ],
   "source": [
    "grammar = r'''\n",
    "            start = {id}+ $ ;\n",
    "            id = /[^:]+|:|[^:].*/;\n",
    "        '''\n",
    "model = compile(grammar)\n",
    "model.parse(\"hello Øresundsadfasdfc      A44:4 A\")"
   ]
  },
  {
   "cell_type": "code",
   "execution_count": 98,
   "metadata": {},
   "outputs": [],
   "source": [
    "#data = open('/home/user/test__').readlines()"
   ]
  },
  {
   "cell_type": "code",
   "execution_count": 470,
   "metadata": {},
   "outputs": [
    {
     "name": "stdout",
     "output_type": "stream",
     "text": [
      "{'EXPRESSION': [[[], [], []]]}\n",
      "{'EXPRESSION': [[[], [], []]]}\n",
      "{'EXPRESSION': [[[], [], []]]}\n",
      "{'EXPRESSION': [[[], [], []]]}\n",
      "{'EXPRESSION': [[[], [], []]]}\n",
      "{'EXPRESSION': [[[], [], []]]}\n",
      "{'EXPRESSION': [[[], [], []]]}\n",
      "{'EXPRESSION': [[[], [], []]]}\n"
     ]
    }
   ],
   "source": [
    "import re\n",
    "for line in data:\n",
    "    if ':' in line:\n",
    "        resp = model.parse(line)\n",
    "        print(resp)"
   ]
  },
  {
   "cell_type": "code",
   "execution_count": 471,
   "metadata": {},
   "outputs": [],
   "source": [
    "grammar=r'''\n",
    "start = sequence $ ;\n",
    "            sequence = {test}+;\n",
    "            digit =  'Manufacturer'|'Product Name';\n",
    "            test = '.';\n",
    "        '''"
   ]
  },
  {
   "cell_type": "code",
   "execution_count": null,
   "metadata": {},
   "outputs": [],
   "source": []
  },
  {
   "cell_type": "code",
   "execution_count": 642,
   "metadata": {},
   "outputs": [],
   "source": [
    "grammar = '''\n",
    "            start = expression;\n",
    "            expression = EXPRESSION:{frac}({binop}{frac});\n",
    "            binop='+';\n",
    "            frac = {latex}{lset}{rset};\n",
    "            latex = '\\\\\\\\frac';\n",
    "            lset= '{'{digit}+'}';\n",
    "            rset = '{'{digit}+'}';\n",
    "            digit = digit:/[1-9]+/;\n",
    "        '''"
   ]
  },
  {
   "cell_type": "code",
   "execution_count": 643,
   "metadata": {},
   "outputs": [],
   "source": [
    "model = compile(grammar)"
   ]
  },
  {
   "cell_type": "code",
   "execution_count": 644,
   "metadata": {},
   "outputs": [],
   "source": [
    "resp = model.parse('\\\\frac{1232}{456}'+'\\\\frac{3}{4}')"
   ]
  },
  {
   "cell_type": "code",
   "execution_count": 645,
   "metadata": {},
   "outputs": [],
   "source": [
    "parser = tatsu.compile(grammar)\n",
    "ast = parser.parse('\\\\frac{1232}{456}'+'\\\\frac{3}{4}')\n",
    "resp = ast['EXPRESSION']"
   ]
  },
  {
   "cell_type": "code",
   "execution_count": 646,
   "metadata": {},
   "outputs": [
    {
     "name": "stdout",
     "output_type": "stream",
     "text": [
      "\\frac \n",
      "   { \n",
      "     {'digit': '1232'} \n",
      "       }\n",
      "\n",
      "   { \n",
      "     {'digit': '456'} \n",
      "       }\n",
      "\\frac \n",
      "   { \n",
      "     {'digit': '3'} \n",
      "       }\n",
      "\n",
      "   { \n",
      "     {'digit': '4'} \n",
      "       }\n"
     ]
    }
   ],
   "source": [
    "x = resp[0][0][0]\n",
    "y = resp[0][1][0]\n",
    "z = resp[0][1][1]\n",
    "print(x,'\\n  ',y[0],'\\n    ',y[1][0],'\\n      ',y[2])\n",
    "print('\\n  ',z[0],'\\n    ',z[1][0],'\\n      ',z[2])\n",
    "\n",
    "x = resp[1][0][0]\n",
    "y = resp[1][1][0]\n",
    "z = resp[1][1][1]\n",
    "print(x,'\\n  ',y[0],'\\n    ',y[1][0],'\\n      ',y[2])\n",
    "print('\\n  ',z[0],'\\n    ',z[1][0],'\\n      ',z[2])"
   ]
  },
  {
   "cell_type": "code",
   "execution_count": null,
   "metadata": {},
   "outputs": [],
   "source": []
  }
 ],
 "metadata": {
  "kernelspec": {
   "display_name": "Python 3",
   "language": "python",
   "name": "python3"
  },
  "language_info": {
   "codemirror_mode": {
    "name": "ipython",
    "version": 3
   },
   "file_extension": ".py",
   "mimetype": "text/x-python",
   "name": "python",
   "nbconvert_exporter": "python",
   "pygments_lexer": "ipython3",
   "version": "3.7.3"
  }
 },
 "nbformat": 4,
 "nbformat_minor": 2
}
