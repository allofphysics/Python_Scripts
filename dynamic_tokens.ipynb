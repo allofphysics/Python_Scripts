{
 "cells": [
  {
   "cell_type": "code",
   "execution_count": 1,
   "metadata": {},
   "outputs": [],
   "source": [
    "\n",
    "#https://www.cs.cornell.edu/projects/kddcup/download/hep-th-2003.tar.gz\n",
    "#https://www.nltk.org/book/ch04.html\n",
    "#Some issues with recursion depth\n",
    "\n",
    "def insert(trie,value,mapped_value):\n",
    "    dct = False\n",
    "    if value:\n",
    "        first, rest = value[0], value[1:]\n",
    "        if first not in trie:\n",
    "            trie[first] = {}\n",
    "            insert(trie[first], rest,mapped_value)\n",
    "        else:\n",
    "            insert(trie[first],rest,mapped_value)\n",
    "    else:\n",
    "        trie['value'] = mapped_value\n",
    "\n"
   ]
  },
  {
   "cell_type": "code",
   "execution_count": 23,
   "metadata": {},
   "outputs": [],
   "source": [
    "import glob\n",
    "files = glob.glob('/home/user/Downloads/2003/*')"
   ]
  },
  {
   "cell_type": "code",
   "execution_count": null,
   "metadata": {},
   "outputs": [],
   "source": [
    "\n",
    "import re"
   ]
  },
  {
   "cell_type": "code",
   "execution_count": 33,
   "metadata": {},
   "outputs": [],
   "source": [
    "dct = {}\n",
    "for this_file in files:\n",
    "    with open(this_file,'rb') as f:\n",
    "        try:\n",
    "            data = f.read()\n",
    "         \n",
    "        except Exception as e:\n",
    "            print(e)\n",
    "            \n",
    "    for latex in re.findall(r'\\$.*?\\$',str(data),re.DOTALL):\n",
    "        if latex not in dct.keys():\n",
    "            dct[latex] = 1\n",
    "        else:\n",
    "            dct[latex] += 1"
   ]
  },
  {
   "cell_type": "code",
   "execution_count": 68,
   "metadata": {
    "scrolled": false
   },
   "outputs": [],
   "source": [
    "trie = {}\n",
    "for match in sorted(dct.items(),key=lambda x: -x[1])[:91]:\n",
    "    key = match[0][1:-1]\n",
    "    count = match[1]\n",
    "    if len(key) > 0:\n",
    "        try:\n",
    "            insert(trie,key,count)\n",
    "        except Exception as e:\n",
    "            print(e)"
   ]
  },
  {
   "cell_type": "code",
   "execution_count": 69,
   "metadata": {},
   "outputs": [
    {
     "data": {
      "text/plain": [
       "{'N': {'value': 2592,\n",
       "  '=': {'2': {'value': 762}, '1': {'value': 471}, '4': {'value': 289}}},\n",
       " 'n': {'value': 2016},\n",
       " 'p': {'value': 1690},\n",
       " 'k': {'value': 1552},\n",
       " 'M': {'value': 1501},\n",
       " 'B': {'value': 1499},\n",
       " 'U': {'(': {'1': {')': {'value': 1313}}, 'N': {')': {'value': 556}}},\n",
       "  'value': 364},\n",
       " '\\\\': {'\\\\': {'p': {'h': {'i': {'value': 1262}}, 's': {'i': {'value': 498}}},\n",
       "   't': {'h': {'e': {'t': {'a': {'value': 1051}}}},\n",
       "    'a': {'u': {'value': 636}}},\n",
       "   'a': {'l': {'p': {'h': {'a': {'value': 882}}}}},\n",
       "   'm': {'u': {'value': 804}},\n",
       "   'b': {'e': {'t': {'a': {'value': 796}}}},\n",
       "   'l': {'a': {'m': {'b': {'d': {'a': {'value': 764}}}}}},\n",
       "   'r': {'h': {'o': {'value': 763}}},\n",
       "   'P': {'h': {'i': {'value': 703}}},\n",
       "   's': {'i': {'g': {'m': {'a': {'value': 697}}}}},\n",
       "   'o': {'m': {'e': {'g': {'a': {'value': 682}}}}},\n",
       "   'S': {'i': {'g': {'m': {'a': {'value': 605}}}}},\n",
       "   'g': {'a': {'m': {'m': {'a': {'value': 516}}}}},\n",
       "   'e': {'t': {'a': {'value': 500}},\n",
       "    'p': {'s': {'i': {'l': {'o': {'n': {'value': 330}}}}}}},\n",
       "   'L': {'a': {'m': {'b': {'d': {'a': {'value': 472}}}}}},\n",
       "   'k': {'a': {'p': {'p': {'a': {'value': 469}}}}},\n",
       "   'x': {'i': {'value': 417}},\n",
       "   'G': {'a': {'m': {'m': {'a': {'value': 388}}}}},\n",
       "   'D': {'e': {'l': {'t': {'a': {'value': 354}}}}},\n",
       "   'd': {'e': {'l': {'t': {'a': {'value': 331}}}}},\n",
       "   'c': {'h': {'i': {'value': 320}}},\n",
       "   'O': {'m': {'e': {'g': {'a': {'value': 294}}}}}}},\n",
       " 'r': {'value': 1205},\n",
       " 'S': {'value': 1199,\n",
       "  'U': {'(': {'2': {')': {'value': 886}}, 'N': {')': {'value': 406}}}},\n",
       "  '^': {'2': {'value': 312}}},\n",
       " 'A': {'value': 1186},\n",
       " 'G': {'value': 1146, '_': {'2': {'value': 398}}},\n",
       " 'x': {'value': 1076},\n",
       " 'X': {'value': 1064},\n",
       " 'a': {'value': 1036},\n",
       " 'R': {'value': 998},\n",
       " 'm': {'value': 973},\n",
       " 'H': {'value': 953},\n",
       " '-': {'1': {'value': 937}, 'value': 326},\n",
       " 't': {'value': 917},\n",
       " 'q': {'value': 914},\n",
       " 'D': {'value': 913},\n",
       " 'Q': {'value': 868},\n",
       " '1': {'value': 863},\n",
       " 'F': {'value': 856},\n",
       " 'T': {'value': 827},\n",
       " '0': {'value': 817},\n",
       " 'z': {'value': 797},\n",
       " 'g': {'value': 787},\n",
       " 'd': {'value': 772},\n",
       " '2': {'value': 725},\n",
       " 's': {'value': 695},\n",
       " 'C': {'value': 687},\n",
       " 'f': {'value': 669},\n",
       " '{': {'\\\\': {'\\\\': {'c': {'a': {'l': {' ': {'N': {'}': {'=': {'2': {'value': 642},\n",
       "           '1': {'value': 584},\n",
       "           '4': {'value': 293}}}}}}}}}}},\n",
       " 'L': {'value': 639},\n",
       " 'E': {'value': 632},\n",
       " 'J': {'value': 619},\n",
       " 'V': {'value': 617},\n",
       " 'b': {'value': 616},\n",
       " 'W': {'value': 582},\n",
       " 'c': {'value': 574},\n",
       " 'y': {'value': 574},\n",
       " 'i': {'value': 550},\n",
       " 'K': {'value': 542},\n",
       " 'P': {'value': 512},\n",
       " 'l': {'value': 455},\n",
       " 'Z': {'value': 439},\n",
       " 'u': {'value': 423},\n",
       " 'j': {'value': 403},\n",
       " 'h': {'value': 397},\n",
       " ' ': {'a': {'n': {'d': {' ': {'value': 355}}}}},\n",
       " 'Y': {'value': 346},\n",
       " 'v': {'value': 337},\n",
       " 'I': {'value': 312}}"
      ]
     },
     "execution_count": 69,
     "metadata": {},
     "output_type": "execute_result"
    }
   ],
   "source": [
    "trie"
   ]
  },
  {
   "cell_type": "code",
   "execution_count": 73,
   "metadata": {},
   "outputs": [
    {
     "data": {
      "text/plain": [
       "{'\\\\': {'p': {'h': {'i': {'value': 1262}}, 's': {'i': {'value': 498}}},\n",
       "  't': {'h': {'e': {'t': {'a': {'value': 1051}}}}, 'a': {'u': {'value': 636}}},\n",
       "  'a': {'l': {'p': {'h': {'a': {'value': 882}}}}},\n",
       "  'm': {'u': {'value': 804}},\n",
       "  'b': {'e': {'t': {'a': {'value': 796}}}},\n",
       "  'l': {'a': {'m': {'b': {'d': {'a': {'value': 764}}}}}},\n",
       "  'r': {'h': {'o': {'value': 763}}},\n",
       "  'P': {'h': {'i': {'value': 703}}},\n",
       "  's': {'i': {'g': {'m': {'a': {'value': 697}}}}},\n",
       "  'o': {'m': {'e': {'g': {'a': {'value': 682}}}}},\n",
       "  'S': {'i': {'g': {'m': {'a': {'value': 605}}}}},\n",
       "  'g': {'a': {'m': {'m': {'a': {'value': 516}}}}},\n",
       "  'e': {'t': {'a': {'value': 500}},\n",
       "   'p': {'s': {'i': {'l': {'o': {'n': {'value': 330}}}}}}},\n",
       "  'L': {'a': {'m': {'b': {'d': {'a': {'value': 472}}}}}},\n",
       "  'k': {'a': {'p': {'p': {'a': {'value': 469}}}}},\n",
       "  'x': {'i': {'value': 417}},\n",
       "  'G': {'a': {'m': {'m': {'a': {'value': 388}}}}},\n",
       "  'D': {'e': {'l': {'t': {'a': {'value': 354}}}}},\n",
       "  'd': {'e': {'l': {'t': {'a': {'value': 331}}}}},\n",
       "  'c': {'h': {'i': {'value': 320}}},\n",
       "  'O': {'m': {'e': {'g': {'a': {'value': 294}}}}}}}"
      ]
     },
     "execution_count": 73,
     "metadata": {},
     "output_type": "execute_result"
    }
   ],
   "source": [
    "trie['\\\\']"
   ]
  },
  {
   "cell_type": "code",
   "execution_count": 88,
   "metadata": {},
   "outputs": [
    {
     "data": {
      "text/plain": [
       "{'p': {'h': {'i': {'value': 1262}}, 's': {'i': {'value': 498}}},\n",
       " 't': {'h': {'e': {'t': {'a': {'value': 1051}}}}, 'a': {'u': {'value': 636}}},\n",
       " 'a': {'l': {'p': {'h': {'a': {'value': 882}}}}},\n",
       " 'm': {'u': {'value': 804}},\n",
       " 'b': {'e': {'t': {'a': {'value': 796}}}},\n",
       " 'l': {'a': {'m': {'b': {'d': {'a': {'value': 764}}}}}},\n",
       " 'r': {'h': {'o': {'value': 763}}},\n",
       " 'P': {'h': {'i': {'value': 703}}},\n",
       " 's': {'i': {'g': {'m': {'a': {'value': 697}}}}},\n",
       " 'o': {'m': {'e': {'g': {'a': {'value': 682}}}}},\n",
       " 'S': {'i': {'g': {'m': {'a': {'value': 605}}}}},\n",
       " 'g': {'a': {'m': {'m': {'a': {'value': 516}}}}},\n",
       " 'e': {'t': {'a': {'value': 500}},\n",
       "  'p': {'s': {'i': {'l': {'o': {'n': {'value': 330}}}}}}},\n",
       " 'L': {'a': {'m': {'b': {'d': {'a': {'value': 472}}}}}},\n",
       " 'k': {'a': {'p': {'p': {'a': {'value': 469}}}}},\n",
       " 'x': {'i': {'value': 417}},\n",
       " 'G': {'a': {'m': {'m': {'a': {'value': 388}}}}},\n",
       " 'D': {'e': {'l': {'t': {'a': {'value': 354}}}}},\n",
       " 'd': {'e': {'l': {'t': {'a': {'value': 331}}}}},\n",
       " 'c': {'h': {'i': {'value': 320}}},\n",
       " 'O': {'m': {'e': {'g': {'a': {'value': 294}}}}}}"
      ]
     },
     "execution_count": 88,
     "metadata": {},
     "output_type": "execute_result"
    }
   ],
   "source": [
    "trie['\\\\']['\\\\']"
   ]
  },
  {
   "cell_type": "code",
   "execution_count": 89,
   "metadata": {},
   "outputs": [
    {
     "data": {
      "text/plain": [
       "{'h': {'e': {'t': {'a': {'value': 1051}}}}, 'a': {'u': {'value': 636}}}"
      ]
     },
     "execution_count": 89,
     "metadata": {},
     "output_type": "execute_result"
    }
   ],
   "source": [
    "trie['\\\\']['\\\\']['t']"
   ]
  },
  {
   "cell_type": "code",
   "execution_count": null,
   "metadata": {},
   "outputs": [],
   "source": []
  }
 ],
 "metadata": {
  "kernelspec": {
   "display_name": "Python 3",
   "language": "python",
   "name": "python3"
  },
  "language_info": {
   "codemirror_mode": {
    "name": "ipython",
    "version": 3
   },
   "file_extension": ".py",
   "mimetype": "text/x-python",
   "name": "python",
   "nbconvert_exporter": "python",
   "pygments_lexer": "ipython3",
   "version": "3.7.3"
  }
 },
 "nbformat": 4,
 "nbformat_minor": 4
}
