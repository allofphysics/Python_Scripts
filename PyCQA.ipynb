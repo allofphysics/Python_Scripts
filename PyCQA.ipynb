{
 "cells": [
  {
   "cell_type": "code",
   "execution_count": 1,
   "metadata": {},
   "outputs": [
    {
     "ename": "ModuleNotFoundError",
     "evalue": "No module named 'redbaron'",
     "output_type": "error",
     "traceback": [
      "\u001b[0;31m---------------------------------------------------------------------------\u001b[0m",
      "\u001b[0;31mModuleNotFoundError\u001b[0m                       Traceback (most recent call last)",
      "\u001b[0;32m<ipython-input-1-377334a1f618>\u001b[0m in \u001b[0;36m<module>\u001b[0;34m\u001b[0m\n\u001b[0;32m----> 1\u001b[0;31m \u001b[0;32mfrom\u001b[0m \u001b[0mredbaron\u001b[0m \u001b[0;32mimport\u001b[0m \u001b[0mRedBaron\u001b[0m\u001b[0;34m\u001b[0m\u001b[0;34m\u001b[0m\u001b[0m\n\u001b[0m",
      "\u001b[0;31mModuleNotFoundError\u001b[0m: No module named 'redbaron'"
     ]
    }
   ],
   "source": [
    "from redbaron import RedBaron"
   ]
  },
  {
   "cell_type": "code",
   "execution_count": 2,
   "metadata": {},
   "outputs": [],
   "source": [
    "source = '''\n",
    "def latex_from_expr_local_id(expr_local_id: str, path_to_db: str) -> str:\n",
    "    \"\"\"\n",
    "    >>> latex_from_expr_local_id('1029')\n",
    "    'a = b'\n",
    "    \"\"\"\n",
    "    if print_trace: print('[trace] compute; latex_from_expr_local_id')\n",
    "    dat = clib.read_db(path_to_db)\n",
    "    print('[debug] compute; latex_from_expr_local_id; expr_local_id =', expr_local_id)\n",
    "    global_id = dat['expr local to global'][expr_local_id]\n",
    "    latex_expr = dat['expressions'][global_id]['latex']\n",
    "    print('[debug] compute; latex_from_expr_local_id; latex_expr =', latex_expr)\n",
    "    return latex_expr'''"
   ]
  },
  {
   "cell_type": "code",
   "execution_count": 3,
   "metadata": {},
   "outputs": [],
   "source": [
    "red = RedBaron(source)"
   ]
  },
  {
   "cell_type": "code",
   "execution_count": 4,
   "metadata": {},
   "outputs": [
    {
     "data": {
      "text/html": [
       "<table><tr><th>Index</th><th>node</th></tr><tr><td>0</td><td><div class=\"highlight\" style=\"background: #f8f8f8\"><pre style=\"line-height: 125%\"><span></span><span style=\"color: #BA2121\">&#39;</span><span style=\"color: #BB6622; font-weight: bold\">\\n</span><span style=\"color: #BA2121\">&#39;</span>\n",
       "</pre></div>\n",
       "</td></tr><tr><td>1</td><td><div class=\"highlight\" style=\"background: #f8f8f8\"><pre style=\"line-height: 125%\"><span></span><span style=\"color: #008000; font-weight: bold\">def</span> <span style=\"color: #0000FF\">latex_from_expr_local_id</span>(expr_local_id: <span style=\"color: #008000\">str</span>, path_to_db: <span style=\"color: #008000\">str</span>) <span style=\"color: #666666\">-&gt;</span> <span style=\"color: #008000\">str</span>:\n",
       "    <span style=\"color: #BA2121; font-style: italic\">&quot;&quot;&quot;</span>\n",
       "<span style=\"color: #BA2121; font-style: italic\">    &gt;&gt;&gt; latex_from_expr_local_id(&#39;1029&#39;)</span>\n",
       "<span style=\"color: #BA2121; font-style: italic\">    &#39;a = b&#39;</span>\n",
       "<span style=\"color: #BA2121; font-style: italic\">    &quot;&quot;&quot;</span>\n",
       "    <span style=\"color: #008000; font-weight: bold\">if</span> print_trace: <span style=\"color: #008000\">print</span>(<span style=\"color: #BA2121\">&#39;[trace] compute; latex_from_expr_local_id&#39;</span>)\n",
       "    dat <span style=\"color: #666666\">=</span> clib<span style=\"color: #666666\">.</span>read_db(path_to_db)\n",
       "    <span style=\"color: #008000\">print</span>(<span style=\"color: #BA2121\">&#39;[debug] compute; latex_from_expr_local_id; expr_local_id =&#39;</span>, expr_local_id)\n",
       "    global_id <span style=\"color: #666666\">=</span> dat[<span style=\"color: #BA2121\">&#39;expr local to global&#39;</span>][expr_local_id]\n",
       "    latex_expr <span style=\"color: #666666\">=</span> dat[<span style=\"color: #BA2121\">&#39;expressions&#39;</span>][global_id][<span style=\"color: #BA2121\">&#39;latex&#39;</span>]\n",
       "    <span style=\"color: #008000\">print</span>(<span style=\"color: #BA2121\">&#39;[debug] compute; latex_from_expr_local_id; latex_expr =&#39;</span>, latex_expr)\n",
       "    <span style=\"color: #008000; font-weight: bold\">return</span> latex_expr\n",
       "</pre></div>\n",
       "</td></tr></table>"
      ],
      "text/plain": [
       "<RedBaron [], \"\\ndef latex_from...n\" 140087568040344, on NoneType 8537744>"
      ]
     },
     "execution_count": 4,
     "metadata": {},
     "output_type": "execute_result"
    }
   ],
   "source": [
    "red"
   ]
  },
  {
   "cell_type": "code",
   "execution_count": 5,
   "metadata": {},
   "outputs": [],
   "source": [
    "red = red[1]"
   ]
  },
  {
   "cell_type": "code",
   "execution_count": null,
   "metadata": {},
   "outputs": [],
   "source": []
  },
  {
   "cell_type": "code",
   "execution_count": 6,
   "metadata": {},
   "outputs": [
    {
     "data": {
      "text/html": [
       "<div class=\"highlight\" style=\"background: #f8f8f8\"><pre style=\"line-height: 125%\"><span></span><span style=\"color: #008000; font-weight: bold\">def</span> <span style=\"color: #0000FF\">latex_from_expr_local_id</span>(expr_local_id: <span style=\"color: #008000\">str</span>, path_to_db: <span style=\"color: #008000\">str</span>) <span style=\"color: #666666\">-&gt;</span> <span style=\"color: #008000\">str</span>:\n",
       "    <span style=\"color: #BA2121; font-style: italic\">&quot;&quot;&quot;</span>\n",
       "<span style=\"color: #BA2121; font-style: italic\">    &gt;&gt;&gt; latex_from_expr_local_id(&#39;1029&#39;)</span>\n",
       "<span style=\"color: #BA2121; font-style: italic\">    &#39;a = b&#39;</span>\n",
       "<span style=\"color: #BA2121; font-style: italic\">    &quot;&quot;&quot;</span>\n",
       "    <span style=\"color: #008000; font-weight: bold\">if</span> print_trace: <span style=\"color: #008000\">print</span>(<span style=\"color: #BA2121\">&#39;[trace] compute; latex_from_expr_local_id&#39;</span>)\n",
       "    dat <span style=\"color: #666666\">=</span> clib<span style=\"color: #666666\">.</span>read_db(path_to_db)\n",
       "    <span style=\"color: #008000\">print</span>(<span style=\"color: #BA2121\">&#39;[debug] compute; latex_from_expr_local_id; expr_local_id =&#39;</span>, expr_local_id)\n",
       "    global_id <span style=\"color: #666666\">=</span> dat[<span style=\"color: #BA2121\">&#39;expr local to global&#39;</span>][expr_local_id]\n",
       "    latex_expr <span style=\"color: #666666\">=</span> dat[<span style=\"color: #BA2121\">&#39;expressions&#39;</span>][global_id][<span style=\"color: #BA2121\">&#39;latex&#39;</span>]\n",
       "    <span style=\"color: #008000\">print</span>(<span style=\"color: #BA2121\">&#39;[debug] compute; latex_from_expr_local_id; latex_expr =&#39;</span>, latex_expr)\n",
       "    <span style=\"color: #008000; font-weight: bold\">return</span> latex_expr\n",
       "</pre></div>\n"
      ],
      "text/plain": [
       "<DefNode path=[1], \"def latex_from_e...n\" 140087568040736, on RedBaron 140087568040344>"
      ]
     },
     "execution_count": 6,
     "metadata": {},
     "output_type": "execute_result"
    }
   ],
   "source": [
    "red"
   ]
  },
  {
   "cell_type": "code",
   "execution_count": 7,
   "metadata": {},
   "outputs": [
    {
     "data": {
      "text/html": [
       "<div class=\"highlight\" style=\"background: #f8f8f8\"><pre style=\"line-height: 125%\"><span></span><span style=\"color: #008000; font-weight: bold\">if</span> print_trace: <span style=\"color: #008000\">print</span>(<span style=\"color: #BA2121\">&#39;[trace] compute; latex_from_expr_local_id&#39;</span>)\n",
       "    \n",
       "</pre></div>\n"
      ],
      "text/plain": [
       "<IfelseblockNode path=[1, 'value', 3], \"if print_trace: ... \" 140087568074008, on DefNode 140087568040736>"
      ]
     },
     "execution_count": 7,
     "metadata": {},
     "output_type": "execute_result"
    }
   ],
   "source": [
    "red[1]"
   ]
  },
  {
   "cell_type": "code",
   "execution_count": 8,
   "metadata": {},
   "outputs": [
    {
     "name": "stdout",
     "output_type": "stream",
     "text": [
      "0 \u001b[38;5;186m\"\"\"\u001b[39m\n",
      "\u001b[38;5;186m    >>> latex_from_expr_local_id('1029')\u001b[39m\n",
      "\u001b[38;5;186m    'a = b'\u001b[39m\n",
      "\u001b[38;5;186m    \"\"\"\u001b[39m\n",
      "\n",
      "1 \u001b[38;5;81mif\u001b[39m\u001b[38;5;15m \u001b[39m\u001b[38;5;15mprint_trace\u001b[39m\u001b[38;5;15m:\u001b[39m\u001b[38;5;15m \u001b[39m\u001b[38;5;15mprint\u001b[39m\u001b[38;5;15m(\u001b[39m\u001b[38;5;186m'\u001b[39m\u001b[38;5;186m[trace] compute; latex_from_expr_local_id\u001b[39m\u001b[38;5;186m'\u001b[39m\u001b[38;5;15m)\u001b[39m\n",
      "\u001b[38;5;15m    \u001b[39m\n",
      "\n",
      "2 \u001b[38;5;15mdat\u001b[39m\u001b[38;5;15m \u001b[39m\u001b[38;5;197m=\u001b[39m\u001b[38;5;15m \u001b[39m\u001b[38;5;15mclib\u001b[39m\u001b[38;5;197m.\u001b[39m\u001b[38;5;15mread_db\u001b[39m\u001b[38;5;15m(\u001b[39m\u001b[38;5;15mpath_to_db\u001b[39m\u001b[38;5;15m)\u001b[39m\n",
      "\n",
      "3 \u001b[38;5;15mprint\u001b[39m\u001b[38;5;15m(\u001b[39m\u001b[38;5;186m'\u001b[39m\u001b[38;5;186m[debug] compute; latex_from_expr_local_id; expr_local_id =\u001b[39m\u001b[38;5;186m'\u001b[39m\u001b[38;5;15m,\u001b[39m\u001b[38;5;15m \u001b[39m\u001b[38;5;15mexpr_local_id\u001b[39m\u001b[38;5;15m)\u001b[39m\n",
      "\n",
      "4 \u001b[38;5;15mglobal_id\u001b[39m\u001b[38;5;15m \u001b[39m\u001b[38;5;197m=\u001b[39m\u001b[38;5;15m \u001b[39m\u001b[38;5;15mdat\u001b[39m\u001b[38;5;15m[\u001b[39m\u001b[38;5;186m'\u001b[39m\u001b[38;5;186mexpr local to global\u001b[39m\u001b[38;5;186m'\u001b[39m\u001b[38;5;15m]\u001b[39m\u001b[38;5;15m[\u001b[39m\u001b[38;5;15mexpr_local_id\u001b[39m\u001b[38;5;15m]\u001b[39m\n",
      "\n",
      "5 \u001b[38;5;15mlatex_expr\u001b[39m\u001b[38;5;15m \u001b[39m\u001b[38;5;197m=\u001b[39m\u001b[38;5;15m \u001b[39m\u001b[38;5;15mdat\u001b[39m\u001b[38;5;15m[\u001b[39m\u001b[38;5;186m'\u001b[39m\u001b[38;5;186mexpressions\u001b[39m\u001b[38;5;186m'\u001b[39m\u001b[38;5;15m]\u001b[39m\u001b[38;5;15m[\u001b[39m\u001b[38;5;15mglobal_id\u001b[39m\u001b[38;5;15m]\u001b[39m\u001b[38;5;15m[\u001b[39m\u001b[38;5;186m'\u001b[39m\u001b[38;5;186mlatex\u001b[39m\u001b[38;5;186m'\u001b[39m\u001b[38;5;15m]\u001b[39m\n",
      "\n",
      "6 \u001b[38;5;15mprint\u001b[39m\u001b[38;5;15m(\u001b[39m\u001b[38;5;186m'\u001b[39m\u001b[38;5;186m[debug] compute; latex_from_expr_local_id; latex_expr =\u001b[39m\u001b[38;5;186m'\u001b[39m\u001b[38;5;15m,\u001b[39m\u001b[38;5;15m \u001b[39m\u001b[38;5;15mlatex_expr\u001b[39m\u001b[38;5;15m)\u001b[39m\n",
      "\n",
      "7 \u001b[38;5;81mreturn\u001b[39m\u001b[38;5;15m \u001b[39m\u001b[38;5;15mlatex_expr\u001b[39m\n",
      "\n"
     ]
    }
   ],
   "source": [
    "for ix,xs in enumerate(red):\n",
    "    print(ix,xs)"
   ]
  },
  {
   "cell_type": "code",
   "execution_count": 9,
   "metadata": {},
   "outputs": [
    {
     "name": "stdout",
     "output_type": "stream",
     "text": [
      "0 string\n",
      "1 ifelseblock\n",
      "2 assignment\n",
      "3 print\n",
      "4 assignment\n",
      "5 assignment\n",
      "6 print\n",
      "7 return\n"
     ]
    }
   ],
   "source": [
    "for ix,xs in enumerate(red):\n",
    "    print(ix,xs.type)"
   ]
  },
  {
   "cell_type": "code",
   "execution_count": 10,
   "metadata": {},
   "outputs": [],
   "source": [
    "#change variable name from dat to DAT\n",
    "for ix,xs in enumerate(red):\n",
    "    if xs.type=='assignment':\n",
    "        #dat = \n",
    "        if xs.target.value == 'dat':\n",
    "            xs.target.value = 'DAT'\n",
    "        #... = dat ...\n",
    "        if xs.value.value[0].value=='dat':\n",
    "            xs.value.value[0].value='DAT'"
   ]
  },
  {
   "cell_type": "code",
   "execution_count": 11,
   "metadata": {},
   "outputs": [
    {
     "data": {
      "text/html": [
       "<div class=\"highlight\" style=\"background: #f8f8f8\"><pre style=\"line-height: 125%\"><span></span><span style=\"color: #008000; font-weight: bold\">def</span> <span style=\"color: #0000FF\">latex_from_expr_local_id</span>(expr_local_id: <span style=\"color: #008000\">str</span>, path_to_db: <span style=\"color: #008000\">str</span>) <span style=\"color: #666666\">-&gt;</span> <span style=\"color: #008000\">str</span>:\n",
       "    <span style=\"color: #BA2121; font-style: italic\">&quot;&quot;&quot;</span>\n",
       "<span style=\"color: #BA2121; font-style: italic\">    &gt;&gt;&gt; latex_from_expr_local_id(&#39;1029&#39;)</span>\n",
       "<span style=\"color: #BA2121; font-style: italic\">    &#39;a = b&#39;</span>\n",
       "<span style=\"color: #BA2121; font-style: italic\">    &quot;&quot;&quot;</span>\n",
       "    <span style=\"color: #008000; font-weight: bold\">if</span> print_trace: <span style=\"color: #008000\">print</span>(<span style=\"color: #BA2121\">&#39;[trace] compute; latex_from_expr_local_id&#39;</span>)\n",
       "    DAT <span style=\"color: #666666\">=</span> clib<span style=\"color: #666666\">.</span>read_db(path_to_db)\n",
       "    <span style=\"color: #008000\">print</span>(<span style=\"color: #BA2121\">&#39;[debug] compute; latex_from_expr_local_id; expr_local_id =&#39;</span>, expr_local_id)\n",
       "    global_id <span style=\"color: #666666\">=</span> DAT[<span style=\"color: #BA2121\">&#39;expr local to global&#39;</span>][expr_local_id]\n",
       "    latex_expr <span style=\"color: #666666\">=</span> DAT[<span style=\"color: #BA2121\">&#39;expressions&#39;</span>][global_id][<span style=\"color: #BA2121\">&#39;latex&#39;</span>]\n",
       "    <span style=\"color: #008000\">print</span>(<span style=\"color: #BA2121\">&#39;[debug] compute; latex_from_expr_local_id; latex_expr =&#39;</span>, latex_expr)\n",
       "    <span style=\"color: #008000; font-weight: bold\">return</span> latex_expr\n",
       "</pre></div>\n"
      ],
      "text/plain": [
       "<DefNode path=[1], \"def latex_from_e...n\" 140087568040736, on RedBaron 140087568040344>"
      ]
     },
     "execution_count": 11,
     "metadata": {},
     "output_type": "execute_result"
    }
   ],
   "source": [
    "red"
   ]
  },
  {
   "cell_type": "code",
   "execution_count": null,
   "metadata": {},
   "outputs": [],
   "source": []
  },
  {
   "cell_type": "code",
   "execution_count": null,
   "metadata": {},
   "outputs": [],
   "source": []
  },
  {
   "cell_type": "code",
   "execution_count": 12,
   "metadata": {},
   "outputs": [
    {
     "data": {
      "text/html": [
       "<div class=\"highlight\" style=\"background: #f8f8f8\"><pre style=\"line-height: 125%\"><span></span><span style=\"color: #008000; font-weight: bold\">def</span> <span style=\"color: #0000FF\">latex_from_expr_local_id</span>(expr_local_id: <span style=\"color: #008000\">str</span>, path_to_db: <span style=\"color: #008000\">str</span>) <span style=\"color: #666666\">-&gt;</span> <span style=\"color: #008000\">str</span>:\n",
       "    <span style=\"color: #BA2121; font-style: italic\">&quot;&quot;&quot;</span>\n",
       "<span style=\"color: #BA2121; font-style: italic\">    &gt;&gt;&gt; latex_from_expr_local_id(&#39;1029&#39;)</span>\n",
       "<span style=\"color: #BA2121; font-style: italic\">    &#39;a = b&#39;</span>\n",
       "<span style=\"color: #BA2121; font-style: italic\">    &quot;&quot;&quot;</span>\n",
       "    <span style=\"color: #008000; font-weight: bold\">if</span> print_trace: <span style=\"color: #008000\">print</span>(<span style=\"color: #BA2121\">&#39;[trace] compute; latex_from_expr_local_id&#39;</span>)\n",
       "    DAT <span style=\"color: #666666\">=</span> clib<span style=\"color: #666666\">.</span>read_db(path_to_db)\n",
       "    <span style=\"color: #008000\">print</span>(<span style=\"color: #BA2121\">&#39;[debug] compute; latex_from_expr_local_id; expr_local_id =&#39;</span>, expr_local_id)\n",
       "    global_id <span style=\"color: #666666\">=</span> DAT[<span style=\"color: #BA2121\">&#39;expr local to global&#39;</span>][expr_local_id]\n",
       "    latex_expr <span style=\"color: #666666\">=</span> DAT[<span style=\"color: #BA2121\">&#39;expressions&#39;</span>][global_id][<span style=\"color: #BA2121\">&#39;latex&#39;</span>]\n",
       "    <span style=\"color: #008000\">print</span>(<span style=\"color: #BA2121\">&#39;[debug] compute; latex_from_expr_local_id; latex_expr =&#39;</span>, latex_expr)\n",
       "    <span style=\"color: #008000; font-weight: bold\">return</span> latex_expr\n",
       "</pre></div>\n"
      ],
      "text/plain": [
       "<DefNode path=[1], \"def latex_from_e...n\" 140087568040736, on RedBaron 140087568040344>"
      ]
     },
     "execution_count": 12,
     "metadata": {},
     "output_type": "execute_result"
    }
   ],
   "source": [
    "red"
   ]
  },
  {
   "cell_type": "code",
   "execution_count": 13,
   "metadata": {},
   "outputs": [],
   "source": [
    "#change docstring \n",
    "red[0].value='\"\"\"\\n    DocString test\\n    \"\"\"'"
   ]
  },
  {
   "cell_type": "code",
   "execution_count": 14,
   "metadata": {},
   "outputs": [
    {
     "data": {
      "text/html": [
       "<div class=\"highlight\" style=\"background: #f8f8f8\"><pre style=\"line-height: 125%\"><span></span><span style=\"color: #008000; font-weight: bold\">def</span> <span style=\"color: #0000FF\">latex_from_expr_local_id</span>(expr_local_id: <span style=\"color: #008000\">str</span>, path_to_db: <span style=\"color: #008000\">str</span>) <span style=\"color: #666666\">-&gt;</span> <span style=\"color: #008000\">str</span>:\n",
       "    <span style=\"color: #BA2121; font-style: italic\">&quot;&quot;&quot;</span>\n",
       "<span style=\"color: #BA2121; font-style: italic\">    DocString test</span>\n",
       "<span style=\"color: #BA2121; font-style: italic\">    &quot;&quot;&quot;</span>\n",
       "    <span style=\"color: #008000; font-weight: bold\">if</span> print_trace: <span style=\"color: #008000\">print</span>(<span style=\"color: #BA2121\">&#39;[trace] compute; latex_from_expr_local_id&#39;</span>)\n",
       "    DAT <span style=\"color: #666666\">=</span> clib<span style=\"color: #666666\">.</span>read_db(path_to_db)\n",
       "    <span style=\"color: #008000\">print</span>(<span style=\"color: #BA2121\">&#39;[debug] compute; latex_from_expr_local_id; expr_local_id =&#39;</span>, expr_local_id)\n",
       "    global_id <span style=\"color: #666666\">=</span> DAT[<span style=\"color: #BA2121\">&#39;expr local to global&#39;</span>][expr_local_id]\n",
       "    latex_expr <span style=\"color: #666666\">=</span> DAT[<span style=\"color: #BA2121\">&#39;expressions&#39;</span>][global_id][<span style=\"color: #BA2121\">&#39;latex&#39;</span>]\n",
       "    <span style=\"color: #008000\">print</span>(<span style=\"color: #BA2121\">&#39;[debug] compute; latex_from_expr_local_id; latex_expr =&#39;</span>, latex_expr)\n",
       "    <span style=\"color: #008000; font-weight: bold\">return</span> latex_expr\n",
       "</pre></div>\n"
      ],
      "text/plain": [
       "<DefNode path=[1], \"def latex_from_e...n\" 140087568040736, on RedBaron 140087568040344>"
      ]
     },
     "execution_count": 14,
     "metadata": {},
     "output_type": "execute_result"
    }
   ],
   "source": [
    "red"
   ]
  },
  {
   "cell_type": "code",
   "execution_count": 15,
   "metadata": {},
   "outputs": [],
   "source": [
    "#drop an if statement\n",
    "for ix,xs in enumerate(red):\n",
    "    if xs.type =='ifelseblock':\n",
    "        if xs.value[0].test.value=='print_trace':\n",
    "            del red[ix]"
   ]
  },
  {
   "cell_type": "code",
   "execution_count": 16,
   "metadata": {},
   "outputs": [
    {
     "data": {
      "text/html": [
       "<div class=\"highlight\" style=\"background: #f8f8f8\"><pre style=\"line-height: 125%\"><span></span><span style=\"color: #008000; font-weight: bold\">def</span> <span style=\"color: #0000FF\">latex_from_expr_local_id</span>(expr_local_id: <span style=\"color: #008000\">str</span>, path_to_db: <span style=\"color: #008000\">str</span>) <span style=\"color: #666666\">-&gt;</span> <span style=\"color: #008000\">str</span>:\n",
       "    <span style=\"color: #BA2121; font-style: italic\">&quot;&quot;&quot;</span>\n",
       "<span style=\"color: #BA2121; font-style: italic\">    DocString test</span>\n",
       "<span style=\"color: #BA2121; font-style: italic\">    &quot;&quot;&quot;</span>\n",
       "    DAT <span style=\"color: #666666\">=</span> clib<span style=\"color: #666666\">.</span>read_db(path_to_db)\n",
       "    <span style=\"color: #008000\">print</span>(<span style=\"color: #BA2121\">&#39;[debug] compute; latex_from_expr_local_id; expr_local_id =&#39;</span>, expr_local_id)\n",
       "    global_id <span style=\"color: #666666\">=</span> DAT[<span style=\"color: #BA2121\">&#39;expr local to global&#39;</span>][expr_local_id]\n",
       "    latex_expr <span style=\"color: #666666\">=</span> DAT[<span style=\"color: #BA2121\">&#39;expressions&#39;</span>][global_id][<span style=\"color: #BA2121\">&#39;latex&#39;</span>]\n",
       "    <span style=\"color: #008000\">print</span>(<span style=\"color: #BA2121\">&#39;[debug] compute; latex_from_expr_local_id; latex_expr =&#39;</span>, latex_expr)\n",
       "    <span style=\"color: #008000; font-weight: bold\">return</span> latex_expr\n",
       "</pre></div>\n"
      ],
      "text/plain": [
       "<DefNode path=[1], \"def latex_from_e...n\" 140087568040736, on RedBaron 140087568040344>"
      ]
     },
     "execution_count": 16,
     "metadata": {},
     "output_type": "execute_result"
    }
   ],
   "source": [
    "red"
   ]
  },
  {
   "cell_type": "code",
   "execution_count": 17,
   "metadata": {},
   "outputs": [],
   "source": [
    "#drop print statements\n",
    "for ix,xs in enumerate(red):\n",
    "    if xs.type =='print':\n",
    "        del red[ix]"
   ]
  },
  {
   "cell_type": "code",
   "execution_count": 18,
   "metadata": {},
   "outputs": [
    {
     "data": {
      "text/html": [
       "<div class=\"highlight\" style=\"background: #f8f8f8\"><pre style=\"line-height: 125%\"><span></span><span style=\"color: #008000; font-weight: bold\">def</span> <span style=\"color: #0000FF\">latex_from_expr_local_id</span>(expr_local_id: <span style=\"color: #008000\">str</span>, path_to_db: <span style=\"color: #008000\">str</span>) <span style=\"color: #666666\">-&gt;</span> <span style=\"color: #008000\">str</span>:\n",
       "    <span style=\"color: #BA2121; font-style: italic\">&quot;&quot;&quot;</span>\n",
       "<span style=\"color: #BA2121; font-style: italic\">    DocString test</span>\n",
       "<span style=\"color: #BA2121; font-style: italic\">    &quot;&quot;&quot;</span>\n",
       "    DAT <span style=\"color: #666666\">=</span> clib<span style=\"color: #666666\">.</span>read_db(path_to_db)\n",
       "    global_id <span style=\"color: #666666\">=</span> DAT[<span style=\"color: #BA2121\">&#39;expr local to global&#39;</span>][expr_local_id]\n",
       "    latex_expr <span style=\"color: #666666\">=</span> DAT[<span style=\"color: #BA2121\">&#39;expressions&#39;</span>][global_id][<span style=\"color: #BA2121\">&#39;latex&#39;</span>]\n",
       "    <span style=\"color: #008000; font-weight: bold\">return</span> latex_expr\n",
       "</pre></div>\n"
      ],
      "text/plain": [
       "<DefNode path=[1], \"def latex_from_e...n\" 140087568040736, on RedBaron 140087568040344>"
      ]
     },
     "execution_count": 18,
     "metadata": {},
     "output_type": "execute_result"
    }
   ],
   "source": [
    "red"
   ]
  },
  {
   "cell_type": "code",
   "execution_count": null,
   "metadata": {},
   "outputs": [],
   "source": []
  },
  {
   "cell_type": "code",
   "execution_count": null,
   "metadata": {},
   "outputs": [],
   "source": []
  },
  {
   "cell_type": "code",
   "execution_count": 19,
   "metadata": {},
   "outputs": [
    {
     "data": {
      "text/html": [
       "<div class=\"highlight\" style=\"background: #f8f8f8\"><pre style=\"line-height: 125%\"><span></span><span style=\"color: #008000; font-weight: bold\">def</span> <span style=\"color: #0000FF\">latex_from_expr_local_id</span>(expr_local_id: <span style=\"color: #008000\">str</span>, path_to_db: <span style=\"color: #008000\">str</span>) <span style=\"color: #666666\">-&gt;</span> <span style=\"color: #008000\">str</span>:\n",
       "    <span style=\"color: #BA2121; font-style: italic\">&quot;&quot;&quot;</span>\n",
       "<span style=\"color: #BA2121; font-style: italic\">    DocString test</span>\n",
       "<span style=\"color: #BA2121; font-style: italic\">    &quot;&quot;&quot;</span>\n",
       "    DAT <span style=\"color: #666666\">=</span> clib<span style=\"color: #666666\">.</span>read_db(path_to_db)\n",
       "    global_id <span style=\"color: #666666\">=</span> DAT[<span style=\"color: #BA2121\">&#39;expr local to global&#39;</span>][expr_local_id]\n",
       "    latex_expr <span style=\"color: #666666\">=</span> DAT[<span style=\"color: #BA2121\">&#39;expressions&#39;</span>][global_id][<span style=\"color: #BA2121\">&#39;latex&#39;</span>]\n",
       "    <span style=\"color: #008000; font-weight: bold\">return</span> latex_expr\n",
       "</pre></div>\n"
      ],
      "text/plain": [
       "<DefNode path=[1], \"def latex_from_e...n\" 140087568040736, on RedBaron 140087568040344>"
      ]
     },
     "execution_count": 19,
     "metadata": {},
     "output_type": "execute_result"
    }
   ],
   "source": [
    "red"
   ]
  },
  {
   "cell_type": "code",
   "execution_count": 20,
   "metadata": {},
   "outputs": [],
   "source": [
    "red[0].insert_before('x=5')"
   ]
  },
  {
   "cell_type": "code",
   "execution_count": 21,
   "metadata": {},
   "outputs": [
    {
     "data": {
      "text/html": [
       "<div class=\"highlight\" style=\"background: #f8f8f8\"><pre style=\"line-height: 125%\"><span></span><span style=\"color: #008000; font-weight: bold\">def</span> <span style=\"color: #0000FF\">latex_from_expr_local_id</span>(expr_local_id: <span style=\"color: #008000\">str</span>, path_to_db: <span style=\"color: #008000\">str</span>) <span style=\"color: #666666\">-&gt;</span> <span style=\"color: #008000\">str</span>:\n",
       "    x<span style=\"color: #666666\">=5</span>\n",
       "    <span style=\"color: #BA2121; font-style: italic\">&quot;&quot;&quot;</span>\n",
       "<span style=\"color: #BA2121; font-style: italic\">    DocString test</span>\n",
       "<span style=\"color: #BA2121; font-style: italic\">    &quot;&quot;&quot;</span>\n",
       "    DAT <span style=\"color: #666666\">=</span> clib<span style=\"color: #666666\">.</span>read_db(path_to_db)\n",
       "    global_id <span style=\"color: #666666\">=</span> DAT[<span style=\"color: #BA2121\">&#39;expr local to global&#39;</span>][expr_local_id]\n",
       "    latex_expr <span style=\"color: #666666\">=</span> DAT[<span style=\"color: #BA2121\">&#39;expressions&#39;</span>][global_id][<span style=\"color: #BA2121\">&#39;latex&#39;</span>]\n",
       "    <span style=\"color: #008000; font-weight: bold\">return</span> latex_expr\n",
       "</pre></div>\n"
      ],
      "text/plain": [
       "<DefNode path=[1], \"def latex_from_e...n\" 140087568040736, on RedBaron 140087568040344>"
      ]
     },
     "execution_count": 21,
     "metadata": {},
     "output_type": "execute_result"
    }
   ],
   "source": [
    "red"
   ]
  },
  {
   "cell_type": "code",
   "execution_count": 22,
   "metadata": {},
   "outputs": [],
   "source": [
    "red[1].insert_after('x=6')"
   ]
  },
  {
   "cell_type": "code",
   "execution_count": 23,
   "metadata": {},
   "outputs": [
    {
     "data": {
      "text/html": [
       "<div class=\"highlight\" style=\"background: #f8f8f8\"><pre style=\"line-height: 125%\"><span></span><span style=\"color: #008000; font-weight: bold\">def</span> <span style=\"color: #0000FF\">latex_from_expr_local_id</span>(expr_local_id: <span style=\"color: #008000\">str</span>, path_to_db: <span style=\"color: #008000\">str</span>) <span style=\"color: #666666\">-&gt;</span> <span style=\"color: #008000\">str</span>:\n",
       "    x<span style=\"color: #666666\">=5</span>\n",
       "    <span style=\"color: #BA2121; font-style: italic\">&quot;&quot;&quot;</span>\n",
       "<span style=\"color: #BA2121; font-style: italic\">    DocString test</span>\n",
       "<span style=\"color: #BA2121; font-style: italic\">    &quot;&quot;&quot;</span>\n",
       "    x<span style=\"color: #666666\">=6</span>\n",
       "    DAT <span style=\"color: #666666\">=</span> clib<span style=\"color: #666666\">.</span>read_db(path_to_db)\n",
       "    global_id <span style=\"color: #666666\">=</span> DAT[<span style=\"color: #BA2121\">&#39;expr local to global&#39;</span>][expr_local_id]\n",
       "    latex_expr <span style=\"color: #666666\">=</span> DAT[<span style=\"color: #BA2121\">&#39;expressions&#39;</span>][global_id][<span style=\"color: #BA2121\">&#39;latex&#39;</span>]\n",
       "    <span style=\"color: #008000; font-weight: bold\">return</span> latex_expr\n",
       "</pre></div>\n"
      ],
      "text/plain": [
       "<DefNode path=[1], \"def latex_from_e...n\" 140087568040736, on RedBaron 140087568040344>"
      ]
     },
     "execution_count": 23,
     "metadata": {},
     "output_type": "execute_result"
    }
   ],
   "source": [
    "red"
   ]
  },
  {
   "cell_type": "code",
   "execution_count": 24,
   "metadata": {},
   "outputs": [
    {
     "data": {
      "text/html": [
       "<div class=\"highlight\" style=\"background: #f8f8f8\"><pre style=\"line-height: 125%\"><span></span><span style=\"color: #008000; font-weight: bold\">def</span> <span style=\"color: #0000FF\">latex_from_expr_local_id</span>(expr_local_id: <span style=\"color: #008000\">str</span>, path_to_db: <span style=\"color: #008000\">str</span>) <span style=\"color: #666666\">-&gt;</span> <span style=\"color: #008000\">str</span>:\n",
       "    x<span style=\"color: #666666\">=5</span>\n",
       "    <span style=\"color: #BA2121; font-style: italic\">&quot;&quot;&quot;</span>\n",
       "<span style=\"color: #BA2121; font-style: italic\">    DocString test</span>\n",
       "<span style=\"color: #BA2121; font-style: italic\">    &quot;&quot;&quot;</span>\n",
       "    x<span style=\"color: #666666\">=6</span>\n",
       "    DAT <span style=\"color: #666666\">=</span> clib<span style=\"color: #666666\">.</span>read_db(path_to_db)\n",
       "    global_id <span style=\"color: #666666\">=</span> DAT[<span style=\"color: #BA2121\">&#39;expr local to global&#39;</span>][expr_local_id]\n",
       "    latex_expr <span style=\"color: #666666\">=</span> DAT[<span style=\"color: #BA2121\">&#39;expressions&#39;</span>][global_id][<span style=\"color: #BA2121\">&#39;latex&#39;</span>]\n",
       "    <span style=\"color: #008000; font-weight: bold\">return</span> latex_expr\n",
       "</pre></div>\n"
      ],
      "text/plain": [
       "<DefNode path=[1], \"def latex_from_e...n\" 140087568040736, on RedBaron 140087568040344>"
      ]
     },
     "execution_count": 24,
     "metadata": {},
     "output_type": "execute_result"
    }
   ],
   "source": [
    "red"
   ]
  },
  {
   "cell_type": "code",
   "execution_count": 25,
   "metadata": {},
   "outputs": [],
   "source": [
    "#replace x = 6 with x = 7 \n",
    "for ix,xs in enumerate(red):\n",
    "    if xs.type == 'assignment':\n",
    "        if xs.target.value == 'x':\n",
    "            if xs.value.type == 'int':\n",
    "                if xs.value.value == '6':\n",
    "                    xs.value.value=str(\"7\")"
   ]
  },
  {
   "cell_type": "code",
   "execution_count": 26,
   "metadata": {},
   "outputs": [
    {
     "data": {
      "text/html": [
       "<div class=\"highlight\" style=\"background: #f8f8f8\"><pre style=\"line-height: 125%\"><span></span><span style=\"color: #008000; font-weight: bold\">def</span> <span style=\"color: #0000FF\">latex_from_expr_local_id</span>(expr_local_id: <span style=\"color: #008000\">str</span>, path_to_db: <span style=\"color: #008000\">str</span>) <span style=\"color: #666666\">-&gt;</span> <span style=\"color: #008000\">str</span>:\n",
       "    x<span style=\"color: #666666\">=5</span>\n",
       "    <span style=\"color: #BA2121; font-style: italic\">&quot;&quot;&quot;</span>\n",
       "<span style=\"color: #BA2121; font-style: italic\">    DocString test</span>\n",
       "<span style=\"color: #BA2121; font-style: italic\">    &quot;&quot;&quot;</span>\n",
       "    x<span style=\"color: #666666\">=7</span>\n",
       "    DAT <span style=\"color: #666666\">=</span> clib<span style=\"color: #666666\">.</span>read_db(path_to_db)\n",
       "    global_id <span style=\"color: #666666\">=</span> DAT[<span style=\"color: #BA2121\">&#39;expr local to global&#39;</span>][expr_local_id]\n",
       "    latex_expr <span style=\"color: #666666\">=</span> DAT[<span style=\"color: #BA2121\">&#39;expressions&#39;</span>][global_id][<span style=\"color: #BA2121\">&#39;latex&#39;</span>]\n",
       "    <span style=\"color: #008000; font-weight: bold\">return</span> latex_expr\n",
       "</pre></div>\n"
      ],
      "text/plain": [
       "<DefNode path=[1], \"def latex_from_e...n\" 140087568040736, on RedBaron 140087568040344>"
      ]
     },
     "execution_count": 26,
     "metadata": {},
     "output_type": "execute_result"
    }
   ],
   "source": [
    "red"
   ]
  },
  {
   "cell_type": "code",
   "execution_count": null,
   "metadata": {},
   "outputs": [],
   "source": []
  }
 ],
 "metadata": {
  "kernelspec": {
   "display_name": "Python 3",
   "language": "python",
   "name": "python3"
  },
  "language_info": {
   "codemirror_mode": {
    "name": "ipython",
    "version": 3
   },
   "file_extension": ".py",
   "mimetype": "text/x-python",
   "name": "python",
   "nbconvert_exporter": "python",
   "pygments_lexer": "ipython3",
   "version": "3.7.3"
  }
 },
 "nbformat": 4,
 "nbformat_minor": 4
}
