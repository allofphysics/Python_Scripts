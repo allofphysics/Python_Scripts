{
 "cells": [
  {
   "cell_type": "code",
   "execution_count": 99,
   "metadata": {
    "collapsed": false
   },
   "outputs": [
    {
     "name": "stdout",
     "output_type": "stream",
     "text": [
      "Requirement already satisfied (use --upgrade to upgrade): termcolor in c:\\users\\wrk\\appdata\\local\\enthought\\canopy\\user\\lib\\site-packages\n",
      "\u001b[31mhello\u001b[0m \u001b[32mworld\u001b[0m\n"
     ]
    }
   ],
   "source": [
    "!pip install termcolor\n",
    "import re\n",
    "from termcolor import colored,cprint\n",
    "\n",
    "print colored('hello', 'red'), colored('world', 'green')"
   ]
  },
  {
   "cell_type": "code",
   "execution_count": 88,
   "metadata": {
    "collapsed": false
   },
   "outputs": [],
   "source": [
    "data=\"\"\"It began after I started as a teaching assistant at the department of physics. The first note was a classic – it proved Albert Einstein wrong. The second one solved the problem of quantum mechanics by dividing several equations through zero, a feat that supposedly explained non-determinism. The next correspondent offered a Theory of Everything, and complained that the academic mainstream was ignoring his insights.\n",
    "\n",
    "I work in theoretical physics, specifically quantum gravity. In my field, we all get them: the emails from amateur physicists who are convinced that they have solved a big problem, normally without understanding the problem in the first place. Like many of my colleagues, I would reply with advice, references and lecture notes. And, like my colleagues, I noticed that the effort was futile. The gap was too large; these were people who lacked even the basic knowledge to work in the area they wanted to contribute to. With a feeling of guilt, I stopped replying.\n",
    "\n",
    "Then they came back into my life. I had graduated and moved to another job, then another. I’d had temporary contracts of between three months and five years. It normally works out somehow, but sometimes there’d be a gap between the end of one contract and the start of the next. This happened again last year. I have kids, and rent to pay, so I tried to think of creative ways to capitalise on 15 years of research experience.\n",
    "\n",
    "As long as you have funding, quantum gravity is basic research at its finest. If not, it’s pretty much useless knowledge. Who, I wondered, could possibly need someone who knows the ins and outs of attempts to unify the forces and unravel the quantum behaviour of space-time? I thought of all the theories of everything in my inbox. And I put up a note on my blog offering physics consultation, including help with theory development: ‘Talk to a physicist. Call me on Skype. $50 per 20 minutes.’\n",
    "\n",
    "A week passed with nothing but jokes from colleagues, most of whom thought my post was a satire. No, no, I assured them, I’m totally serious; send me your crackpots, they’re welcome. In the second week I got two enquiries and, a little nervous, I took on my first customer. Then came a second. A third. And they kept coming.\n",
    "\n",
    "My callers fall into two very different categories. Some of them cherish the opportunity to talk to a physicist because one-to-one conversation is simply more efficient than Google. They can shoot up to 20 questions a minute, everything from: ‘How do we know quarks exist?’ to ‘Can atoms contain tiny universes?’ They’re normally young or middle-aged men who want to understand all the nerdy stuff but have no time to lose. That’s the minority.\n",
    "\n",
    "The majority of my callers are the ones who seek advice for an idea they’ve tried to formalise, unsuccessfully, often for a long time. Many of them are retired or near retirement, typically with a background in engineering or a related industry. All of them are men. Many base their theories on images, downloaded or drawn by hand, embedded in long pamphlets. A few use basic equations. Some add videos or applets. Some work with 3D models of Styrofoam, cardboard or wires. The variety of their ideas is bewildering, but these callers have two things in common: they spend an extraordinary amount of time on their theories, and they are frustrated that nobody is interested.\n",
    "\n",
    "Sociologists have long tried and failed to draw a line between science and pseudoscience. In physics, though, that ‘demarcation problem’ is a non-problem, solved by the pragmatic observation that we can reliably tell an outsider when we see one. During a decade of education, we physicists learn more than the tools of the trade; we also learn the walk and talk of the community, shared through countless seminars and conferences, meetings, lectures and papers. After exchanging a few sentences, we can tell if you’re one of us. You can’t fake our community slang any more than you can fake a local accent in a foreign country.\n",
    "\n",
    "My clients know so little about current research in physics, they aren’t even aware they’re in a foreign country. They have no clue how far they are from making themselves understood. Their ideas aren’t bad; they are raw versions of ideas that underlie established research programmes. But those who seek my advice lack the mathematical background to build anything interesting on their intuitions. I try to help them by making connections to existing research. During our conversations, I point them towards relevant literature and name the important keywords. I give recommendations on what to do next, what they need to learn, or what problem lies in the way. And I make clear that if they want to be taken seriously by physicists, there’s no way around mathematics, lots of mathematics. Images and videos will not do.\n",
    "\n",
    "One or two seemed miffed that I didn’t immediately exclaim: ‘Genius!’, but most of my callers realised that they can’t contribute to a field without meeting today’s quality standard. Then again, I hear only from those willing to invest in advancing their education to begin with. After our first conversation, they often book another appointment. One of them might even publish a paper soon. Not a proposal for a theory of everything, mind you, but a new way to look at a known effect. A first step on a long journey.\n",
    "\n",
    "I haven’t learned any new physics in these conversations, but I have learned a great deal about science communication. My clients almost exclusively get their information from the popular science media. Often, they get something utterly wrong in the process. Once I hear their reading of an article about, say, space-time foam or black hole firewalls, I can see where their misunderstanding stems from. But they come up with interpretations that never would have crossed my mind when writing an article.\n",
    "\n",
    "A typical problem is that, in the absence of equations, they project literal meanings onto words such as ‘grains’ of space-time or particles ‘popping’ in and out of existence. Science writers should be more careful to point out when we are using metaphors. My clients read way too much into pictures, measuring every angle, scrutinising every colour, counting every dash. Illustrators should be more careful to point out what is relevant information and what is artistic freedom. But the most important lesson I’ve learned is that journalists are so successful at making physics seem not so complicated that many readers come away with the impression that they can easily do it themselves. How can we blame them for not knowing what it takes if we never tell them?\n",
    "\n",
    "A few months passed, my new job began, and I didn’t have time any more to take on the calls. Emails piled up in my inbox. With some hesitation, I posted a note on Facebook asking if anybody with a PhD in physics would be interested making a little money on the side. Within two hours I had a dozen replies; there are a lot of underpaid postdocs and lecturers out there. I now have a small team of consultants on the ‘talk to a physicist’ service. None of us makes great money, and I don’t think we ever will because the market is too small. But broken down to dollars or euros per hour, I’ve had many freelance writing jobs that paid worse.\n",
    "\n",
    "I still get the occasional joke from colleagues about my ‘crackpot consultant business’, but I’ve stopped thinking of our clients that way. They are driven by the same desire to understand nature and make a contribution to science as we are. They just weren’t lucky enough to get the required education early in life, and now they have a hard time figuring out where to even begin. At the same time, the physicists on my team like to help others understand more about science and appreciate the opportunity to apply their knowledge outside academia. In connecting both sides, everybody wins.\n",
    "\n",
    "And who knows? Maybe we’ll be the first to learn of the new Theory of Everything.\"\"\""
   ]
  },
  {
   "cell_type": "code",
   "execution_count": 108,
   "metadata": {
    "collapsed": false
   },
   "outputs": [
    {
     "name": "stdout",
     "output_type": "stream",
     "text": [
      "\u001b[1m\u001b[31mIt\u001b[0m began after \u001b[1m\u001b[31mI \u001b[0m\u001b[1m\u001b[31mstarted \u001b[0mas a teaching assistant at the department of physics\n",
      " \u001b[1m\u001b[31mThe\u001b[0m first note was a classic – it \u001b[1m\u001b[31mproved \u001b[0m\u001b[1m\u001b[31mAlbert\u001b[0m \u001b[1m\u001b[31mEinstein\u001b[0m wrong\n",
      " \u001b[1m\u001b[31mThe\u001b[0m second one \u001b[1m\u001b[31msolved \u001b[0mthe problem of quantum mechanics by dividing several equations through zero\n",
      " a feat that supposedly \u001b[1m\u001b[31mexplained \u001b[0mnon-determinism\n",
      " \u001b[1m\u001b[31mThe\u001b[0m next correspondent \u001b[1m\u001b[31moffered \u001b[0ma \u001b[1m\u001b[31mTheory\u001b[0m of \u001b[1m\u001b[31mEverything\u001b[0m\n",
      "\u001b[1m\u001b[34m and \u001b[0m\u001b[1m\u001b[31mcomplained \u001b[0mthat the academic mainstream was ignoring\u001b[1m\u001b[31m his \u001b[0minsights\n",
      "\n",
      "\n",
      "\u001b[1m\u001b[31mI \u001b[0mwork in theoretical physics\n",
      " specifically quantum gravity\n",
      " \u001b[1m\u001b[31mIn\u001b[0m \u001b[1m\u001b[31mmy \u001b[0mfield\n",
      " we all get them\n",
      " the emails from amateur physicists who are \u001b[1m\u001b[31mconvinced \u001b[0mthat\u001b[1m\u001b[31m they \u001b[0mhave \u001b[1m\u001b[31msolved \u001b[0ma big problem\n",
      " normally without understanding the problem in the first place\n",
      " \u001b[1m\u001b[31mLike\u001b[0m many of \u001b[1m\u001b[31mmy \u001b[0mcolleagues\n",
      " \u001b[1m\u001b[31mI \u001b[0mwould reply with advice\n",
      " references\u001b[1m\u001b[34m and \u001b[0mlecture notes\n",
      " \u001b[1m\u001b[31mAnd\u001b[0m\n",
      " like \u001b[1m\u001b[31mmy \u001b[0mcolleagues\n",
      " \u001b[1m\u001b[31mI \u001b[0m\u001b[1m\u001b[31mnoticed \u001b[0mthat the effort was futile\n",
      " \u001b[1m\u001b[31mThe\u001b[0m gap was too large\n",
      " these were people who \u001b[1m\u001b[31mlacked \u001b[0meven the basic knowledge to work in the area\u001b[1m\u001b[31m they \u001b[0m\u001b[1m\u001b[31mwanted \u001b[0mto contribute to\n",
      " \u001b[1m\u001b[31mWith\u001b[0m a feeling of guilt\n",
      " \u001b[1m\u001b[31mI \u001b[0m\u001b[1m\u001b[31mstopped \u001b[0mreplying\n",
      "\n",
      "\n",
      "\u001b[1m\u001b[31mThen\u001b[0m\u001b[1m\u001b[31m they \u001b[0mcame back into \u001b[1m\u001b[31mmy \u001b[0mlife\n",
      " \u001b[1m\u001b[31mI \u001b[0mhad \u001b[1m\u001b[31mgraduated \u001b[0mand \u001b[1m\u001b[31mmoved \u001b[0mto another job\n",
      " then another\n",
      " \u001b[1m\u001b[31mI\u001b[0m’d had temporary contracts of between three months\u001b[1m\u001b[34m and \u001b[0mfive years\n",
      " \u001b[1m\u001b[31mIt\u001b[0m normally works out somehow\n",
      " but sometimes there’d be a gap between the end of one contract\u001b[1m\u001b[34m and \u001b[0mthe start of the next\n",
      " \u001b[1m\u001b[31mThis\u001b[0m \u001b[1m\u001b[31mhappened \u001b[0magain last year\n",
      " \u001b[1m\u001b[31mI \u001b[0mhave kids\n",
      "\u001b[1m\u001b[34m and \u001b[0mrent to pay\n",
      " so \u001b[1m\u001b[31mI \u001b[0m\u001b[1m\u001b[31mtried \u001b[0mto think of creative ways to capitalise on 15 years of research experience\n",
      "\n",
      "\n",
      "\u001b[1m\u001b[31mAs\u001b[0m long as you have funding\n",
      " quantum gravity is basic research at its finest\n",
      " \u001b[1m\u001b[31mIf\u001b[0m not\n",
      " it’s pretty much useless knowledge\n",
      " \u001b[1m\u001b[31mWho\u001b[0m\n",
      " \u001b[1m\u001b[31mI \u001b[0mwondered\n",
      " could possibly \u001b[1m\u001b[31mneed \u001b[0msomeone who knows the ins\u001b[1m\u001b[34m and \u001b[0mouts of attempts to unify the forces\u001b[1m\u001b[34m and \u001b[0munravel the quantum behaviour of space-time\n",
      " \u001b[1m\u001b[31mI \u001b[0mthought of all the theories of everything in \u001b[1m\u001b[31mmy \u001b[0minbox\n",
      " \u001b[1m\u001b[31mAnd\u001b[0m \u001b[1m\u001b[31mI \u001b[0mput up a note on \u001b[1m\u001b[31mmy \u001b[0mblog offering physics consultation\n",
      " including help with theory development\n",
      " ‘\u001b[1m\u001b[31mTalk\u001b[0m to a physicist\n",
      " \u001b[1m\u001b[31mCall\u001b[0m me on \u001b[1m\u001b[31mSkype\u001b[0m\n",
      " $50 per 20 minutes\n",
      "’\n",
      "\n",
      "\u001b[1m\u001b[31mA\u001b[0m week \u001b[1m\u001b[31mpassed \u001b[0mwith nothing but jokes from colleagues\n",
      " most of whom thought \u001b[1m\u001b[31mmy \u001b[0mpost was a satire\n",
      " \u001b[1m\u001b[31mNo\u001b[0m\n",
      " no\n",
      " \u001b[1m\u001b[31mI \u001b[0m\u001b[1m\u001b[31massured \u001b[0mthem\n",
      " \u001b[1m\u001b[31mI\u001b[0m’m totally serious\n",
      " send me your crackpots\n",
      " they’re welcome\n",
      " \u001b[1m\u001b[31mIn\u001b[0m the second week \u001b[1m\u001b[31mI \u001b[0mgot two enquiries and\n",
      " a little nervous\n",
      " \u001b[1m\u001b[31mI \u001b[0mtook on \u001b[1m\u001b[31mmy \u001b[0mfirst customer\n",
      " \u001b[1m\u001b[31mThen\u001b[0m came a second\n",
      " \u001b[1m\u001b[31mA\u001b[0m third\n",
      " \u001b[1m\u001b[31mAnd\u001b[0m\u001b[1m\u001b[31m they \u001b[0mkept coming\n",
      "\n",
      "\n",
      "\u001b[1m\u001b[31mMy\u001b[0m callers fall into two very different categories\n",
      " \u001b[1m\u001b[31mSome\u001b[0m of them cherish the opportunity to talk to a physicist because one-to-one conversation is simply more efficient than \u001b[1m\u001b[31mGoogle\u001b[0m\n",
      " \u001b[1m\u001b[31mThey\u001b[0m can shoot up to 20 questions a minute\n",
      " everything from\n",
      " ‘\u001b[1m\u001b[31mHow\u001b[0m do we know quarks exist\n",
      "’ to ‘\u001b[1m\u001b[31mCan\u001b[0m atoms contain tiny universes\n",
      "’ \u001b[1m\u001b[31mThey\u001b[0m’re normally young or middle-\u001b[1m\u001b[31maged \u001b[0mmen who want to understand all the nerdy stuff but have no time to lose\n",
      " \u001b[1m\u001b[31mThat\u001b[0m’s the minority\n",
      "\n",
      "\n",
      "\u001b[1m\u001b[31mThe\u001b[0m majority of \u001b[1m\u001b[31mmy \u001b[0mcallers are the ones who seek advice for an idea they’ve \u001b[1m\u001b[31mtried \u001b[0mto formalise\n",
      " unsuccessfully\n",
      " often for a long time\n",
      " \u001b[1m\u001b[31mMany\u001b[0m of them are \u001b[1m\u001b[31mretired \u001b[0mor near retirement\n",
      " typically with a background in engineering or a \u001b[1m\u001b[31mrelated \u001b[0mindustry\n",
      " \u001b[1m\u001b[31mAll\u001b[0m of them are men\n",
      " \u001b[1m\u001b[31mMany\u001b[0m base their theories on images\n",
      " \u001b[1m\u001b[31mdownloaded \u001b[0mor drawn by hand\n",
      " \u001b[1m\u001b[31membedded \u001b[0min long pamphlets\n",
      " \u001b[1m\u001b[31mA\u001b[0m few use basic equations\n",
      " \u001b[1m\u001b[31mSome\u001b[0m add videos or applets\n",
      " \u001b[1m\u001b[31mSome\u001b[0m work with 3\u001b[1m\u001b[31mD\u001b[0m models of \u001b[1m\u001b[31mStyrofoam\u001b[0m\n",
      " cardboard or wires\n",
      " \u001b[1m\u001b[31mThe\u001b[0m variety of their ideas is bewildering\n",
      " but these callers have two things in common\n",
      "\u001b[1m\u001b[31m they \u001b[0mspend an extraordinary amount of time on their theories\n",
      " and\u001b[1m\u001b[31m they \u001b[0mare \u001b[1m\u001b[31mfrustrated \u001b[0mthat nobody is interested\n",
      "\n",
      "\n",
      "\u001b[1m\u001b[31mSociologists\u001b[0m have long \u001b[1m\u001b[31mtried \u001b[0mand \u001b[1m\u001b[31mfailed \u001b[0mto draw a line between science\u001b[1m\u001b[34m and \u001b[0mpseudoscience\n",
      " \u001b[1m\u001b[31mIn\u001b[0m physics\n",
      " though\n",
      " that ‘demarcation problem’ is a non-problem\n",
      " \u001b[1m\u001b[31msolved \u001b[0mby the pragmatic observation that we can reliably tell an outsider when we see one\n",
      " \u001b[1m\u001b[31mDuring\u001b[0m a decade of education\n",
      " we physicists learn more than the tools of the trade\n",
      " we also learn the walk\u001b[1m\u001b[34m and \u001b[0mtalk of the community\n",
      " \u001b[1m\u001b[31mshared \u001b[0mthrough countless seminars\u001b[1m\u001b[34m and \u001b[0mconferences\n",
      " meetings\n",
      " lectures\u001b[1m\u001b[34m and \u001b[0mpapers\n",
      " \u001b[1m\u001b[31mAfter\u001b[0m exchanging a few sentences\n",
      " we can tell if you’re one of us\n",
      " \u001b[1m\u001b[31mYou\u001b[0m can’t fake our community slang any more than you can fake a local accent in a foreign country\n",
      "\n",
      "\n",
      "\u001b[1m\u001b[31mMy\u001b[0m clients know so little about current research in physics\n",
      "\u001b[1m\u001b[31m they \u001b[0maren’t even aware they’re in a foreign country\n",
      " \u001b[1m\u001b[31mThey\u001b[0m have no clue how far\u001b[1m\u001b[31m they \u001b[0mare from making themselves understood\n",
      " \u001b[1m\u001b[31mTheir\u001b[0m ideas aren’t bad\n",
      "\u001b[1m\u001b[31m they \u001b[0mare raw versions of ideas that underlie \u001b[1m\u001b[31mestablished \u001b[0mresearch programmes\n",
      " \u001b[1m\u001b[31mBut\u001b[0m those who seek \u001b[1m\u001b[31mmy \u001b[0madvice lack the mathematical background to build anything interesting on their intuitions\n",
      " \u001b[1m\u001b[31mI \u001b[0mtry to help them by making connections to existing research\n",
      " \u001b[1m\u001b[31mDuring\u001b[0m our conversations\n",
      " \u001b[1m\u001b[31mI \u001b[0mpoint them towards relevant literature\u001b[1m\u001b[34m and \u001b[0mname the important keywords\n",
      " \u001b[1m\u001b[31mI \u001b[0mgive recommendations on what to do next\n",
      " what\u001b[1m\u001b[31m they \u001b[0m\u001b[1m\u001b[31mneed \u001b[0mto learn\n",
      " or what problem lies in the way\n",
      " \u001b[1m\u001b[31mAnd\u001b[0m \u001b[1m\u001b[31mI \u001b[0mmake clear that if\u001b[1m\u001b[31m they \u001b[0mwant to be taken seriously by physicists\n",
      " there’s no way around mathematics\n",
      " lots of mathematics\n",
      " \u001b[1m\u001b[31mImages\u001b[0m\u001b[1m\u001b[34m and \u001b[0mvideos will not do\n",
      "\n",
      "\n",
      "\u001b[1m\u001b[31mOne\u001b[0m or two \u001b[1m\u001b[31mseemed \u001b[0m\u001b[1m\u001b[31mmiffed \u001b[0mthat \u001b[1m\u001b[31mI \u001b[0mdidn’t immediately exclaim\n",
      " ‘\u001b[1m\u001b[31mGenius\u001b[0m!’\n",
      " but most of \u001b[1m\u001b[31mmy \u001b[0mcallers \u001b[1m\u001b[31mrealised \u001b[0mthat\u001b[1m\u001b[31m they \u001b[0mcan’t contribute to a field without meeting today’s quality standard\n",
      " \u001b[1m\u001b[31mThen\u001b[0m again\n",
      " \u001b[1m\u001b[31mI \u001b[0mhear only from those willing to invest in advancing their education to begin with\n",
      " \u001b[1m\u001b[31mAfter\u001b[0m our first conversation\n",
      "\u001b[1m\u001b[31m they \u001b[0moften book another appointment\n",
      " \u001b[1m\u001b[31mOne\u001b[0m of them might even publish a paper soon\n",
      " \u001b[1m\u001b[31mNot\u001b[0m a proposal for a theory of everything\n",
      " mind you\n",
      " but a new way to look at a known effect\n",
      " \u001b[1m\u001b[31mA\u001b[0m first step on a long journey\n",
      "\n",
      "\n",
      "\u001b[1m\u001b[31mI \u001b[0mhaven’t \u001b[1m\u001b[31mlearned \u001b[0many new physics in these conversations\n",
      " but \u001b[1m\u001b[31mI \u001b[0mhave \u001b[1m\u001b[31mlearned \u001b[0ma great deal about science communication\n",
      " \u001b[1m\u001b[31mMy\u001b[0m clients almost exclusively get their information from the popular science media\n",
      " \u001b[1m\u001b[31mOften\u001b[0m\n",
      "\u001b[1m\u001b[31m they \u001b[0mget something utterly wrong in the process\n",
      " \u001b[1m\u001b[31mOnce\u001b[0m \u001b[1m\u001b[31mI \u001b[0mhear their reading of an article about\n",
      " say\n",
      " space-time foam or black hole firewalls\n",
      " \u001b[1m\u001b[31mI \u001b[0mcan see where their misunderstanding stems from\n",
      " \u001b[1m\u001b[31mBut\u001b[0m\u001b[1m\u001b[31m they \u001b[0mcome up with interpretations that never would have \u001b[1m\u001b[31mcrossed \u001b[0m\u001b[1m\u001b[31mmy \u001b[0mmind when writing an article\n",
      "\n",
      "\n",
      "\u001b[1m\u001b[31mA\u001b[0m typical problem is that\n",
      " in the absence of equations\n",
      "\u001b[1m\u001b[31m they \u001b[0mproject literal meanings onto words such as ‘grains’ of space-time or particles ‘popping’ in\u001b[1m\u001b[34m and \u001b[0mout of existence\n",
      " \u001b[1m\u001b[31mScience\u001b[0m writers should be more careful to point out when we are using metaphors\n",
      " \u001b[1m\u001b[31mMy\u001b[0m clients read way too much into pictures\n",
      " measuring every angle\n",
      " scrutinising every colour\n",
      " counting every dash\n",
      " \u001b[1m\u001b[31mIllustrators\u001b[0m should be more careful to point out what is relevant information\u001b[1m\u001b[34m and \u001b[0mwhat is artistic freedom\n",
      " \u001b[1m\u001b[31mBut\u001b[0m the most important lesson \u001b[1m\u001b[31mI\u001b[0m’ve \u001b[1m\u001b[31mlearned \u001b[0mis that journalists are so successful at making physics seem not so \u001b[1m\u001b[31mcomplicated \u001b[0mthat many readers come away with the impression that\u001b[1m\u001b[31m they \u001b[0mcan easily do it themselves\n",
      " \u001b[1m\u001b[31mHow\u001b[0m can we blame them for not knowing what it takes if we never tell them\n",
      "\n",
      "\n",
      "\u001b[1m\u001b[31mA\u001b[0m few months passed\n",
      " \u001b[1m\u001b[31mmy \u001b[0mnew job began\n",
      "\u001b[1m\u001b[34m and \u001b[0m\u001b[1m\u001b[31mI \u001b[0mdidn’t have time any more to take on the calls\n",
      " \u001b[1m\u001b[31mEmails\u001b[0m \u001b[1m\u001b[31mpiled \u001b[0mup in \u001b[1m\u001b[31mmy \u001b[0minbox\n",
      " \u001b[1m\u001b[31mWith\u001b[0m some hesitation\n",
      " \u001b[1m\u001b[31mI \u001b[0m\u001b[1m\u001b[31mposted \u001b[0ma note on \u001b[1m\u001b[31mFacebook\u001b[0m asking if anybody with a \u001b[1m\u001b[31mPh\u001b[0m\u001b[1m\u001b[31mD\u001b[0m in physics would be \u001b[1m\u001b[31minterested \u001b[0mmaking a little money on the side\n",
      " \u001b[1m\u001b[31mWithin\u001b[0m two hours \u001b[1m\u001b[31mI \u001b[0mhad a dozen replies\n",
      " there are a lot of underpaid postdocs\u001b[1m\u001b[34m and \u001b[0mlecturers out there\n",
      " \u001b[1m\u001b[31mI \u001b[0mnow have a small team of consultants on the ‘talk to a physicist’ service\n",
      " \u001b[1m\u001b[31mNone\u001b[0m of us makes great money\n",
      "\u001b[1m\u001b[34m and \u001b[0m\u001b[1m\u001b[31mI \u001b[0mdon’t think we ever will because the market is too small\n",
      " \u001b[1m\u001b[31mBut\u001b[0m broken down to dollars or euros per hour\n",
      " \u001b[1m\u001b[31mI\u001b[0m’ve had many freelance writing jobs that paid worse\n",
      "\n",
      "\n",
      "\u001b[1m\u001b[31mI \u001b[0mstill get the occasional joke from colleagues about \u001b[1m\u001b[31mmy \u001b[0m‘crackpot consultant business’\n",
      " but \u001b[1m\u001b[31mI\u001b[0m’ve \u001b[1m\u001b[31mstopped \u001b[0mthinking of our clients that way\n",
      " \u001b[1m\u001b[31mThey\u001b[0m are driven by the same desire to understand nature\u001b[1m\u001b[34m and \u001b[0mmake a contribution to science as we are\n",
      " \u001b[1m\u001b[31mThey\u001b[0m just weren’t lucky enough to get the \u001b[1m\u001b[31mrequired \u001b[0meducation early in life\n",
      "\u001b[1m\u001b[34m and \u001b[0mnow\u001b[1m\u001b[31m they \u001b[0mhave a hard time figuring out where to even begin\n",
      " \u001b[1m\u001b[31mAt\u001b[0m the same time\n",
      " the physicists on \u001b[1m\u001b[31mmy \u001b[0mteam like to help others understand more about science\u001b[1m\u001b[34m and \u001b[0mappreciate the opportunity to apply their knowledge outside academia\n",
      " \u001b[1m\u001b[31mIn\u001b[0m connecting both sides\n",
      " everybody wins\n",
      "\n",
      "\n",
      "\u001b[1m\u001b[31mAnd\u001b[0m who knows\n",
      " \u001b[1m\u001b[31mMaybe\u001b[0m we’ll be the first to learn of the new \u001b[1m\u001b[31mTheory\u001b[0m of \u001b[1m\u001b[31mEverything\u001b[0m\n",
      "\n"
     ]
    }
   ],
   "source": [
    "import re\n",
    "for line in re.split('\\.|\\,|;|:|\\?',data):\n",
    "    line=re.sub('(I |my | his | her | they |[A-Z]+[a-z]*|\\w+ed )',colored('{}'.format(r'\\1'),'red',attrs=['bold']),line)\n",
    "    print re.sub('( and )',colored('{}'.format(r'\\1'),'blue',attrs=['bold']),line)"
   ]
  },
  {
   "cell_type": "code",
   "execution_count": null,
   "metadata": {
    "collapsed": false
   },
   "outputs": [],
   "source": []
  },
  {
   "cell_type": "code",
   "execution_count": null,
   "metadata": {
    "collapsed": false
   },
   "outputs": [],
   "source": []
  },
  {
   "cell_type": "code",
   "execution_count": 52,
   "metadata": {
    "collapsed": false
   },
   "outputs": [],
   "source": []
  },
  {
   "cell_type": "code",
   "execution_count": 51,
   "metadata": {
    "collapsed": false
   },
   "outputs": [
    {
     "name": "stdout",
     "output_type": "stream",
     "text": [
      "Collecting termcolor\n",
      "  Downloading termcolor-1.1.0.tar.gz\n",
      "Installing collected packages: termcolor\n",
      "  Running setup.py install for termcolor: started\n",
      "    Running setup.py install for termcolor: finished with status 'done'\n",
      "Successfully installed termcolor-1.1.0\n"
     ]
    }
   ],
   "source": []
  },
  {
   "cell_type": "code",
   "execution_count": 53,
   "metadata": {
    "collapsed": false
   },
   "outputs": [
    {
     "name": "stdout",
     "output_type": "stream",
     "text": [
      "\u001b[31mhello\u001b[0m \u001b[32mworld\u001b[0m\n"
     ]
    }
   ],
   "source": []
  },
  {
   "cell_type": "code",
   "execution_count": 74,
   "metadata": {
    "collapsed": false
   },
   "outputs": [
    {
     "name": "stdout",
     "output_type": "stream",
     "text": [
      "\u001b[91mHello World !\u001b[0m\n"
     ]
    }
   ],
   "source": []
  },
  {
   "cell_type": "code",
   "execution_count": null,
   "metadata": {
    "collapsed": true
   },
   "outputs": [],
   "source": []
  }
 ],
 "metadata": {
  "kernelspec": {
   "display_name": "Python 2",
   "language": "python",
   "name": "python2"
  },
  "language_info": {
   "codemirror_mode": {
    "name": "ipython",
    "version": 2
   },
   "file_extension": ".py",
   "mimetype": "text/x-python",
   "name": "python",
   "nbconvert_exporter": "python",
   "pygments_lexer": "ipython2",
   "version": "2.7.11"
  }
 },
 "nbformat": 4,
 "nbformat_minor": 0
}
