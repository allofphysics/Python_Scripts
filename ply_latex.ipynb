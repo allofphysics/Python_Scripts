{
 "cells": [
  {
   "cell_type": "markdown",
   "metadata": {},
   "source": [
    "cant add duplicate patterns.\n",
    "will fail to build lexer\n",
    "\n",
    "No rules defined\n",
    "    cant build lexer\n",
    "    \n",
    "    \n",
    "No t_error rule is defined\n",
    "    t_error must be a function    with 1 arg\n",
    "    \n",
    "Rule 't_ignore' must be defined as a string\n",
    "\n",
    "\n",
    "Invalid literal '**'. Must be a single character\n",
    "literals must be a sequence of characters -> list of single chars"
   ]
  },
  {
   "cell_type": "code",
   "execution_count": 231,
   "metadata": {},
   "outputs": [],
   "source": [
    "trie = {}"
   ]
  },
  {
   "cell_type": "code",
   "execution_count": 232,
   "metadata": {},
   "outputs": [
    {
     "name": "stdout",
     "output_type": "stream",
     "text": [
      "(NUMBER,123423435345366,1,0)\n",
      "(PLUS,'+',1,15)\n",
      "(NUMBER,2,1,16)\n",
      "(PLUS,'+',1,17)\n",
      "(NUMBER,3,1,18)\n"
     ]
    }
   ],
   "source": [
    "# -----------------------------------------------------------------------------\n",
    "# calclex.py\n",
    "# -----------------------------------------------------------------------------\n",
    "import sys\n",
    "\n",
    "if \"..\" not in sys.path: sys.path.insert(0,\"..\")\n",
    "import ply.lex as lex\n",
    "\n",
    "tokens = (\n",
    "    'NAME','NUMBER',\n",
    "    'PLUS','MINUS','TIMES','DIVIDE','EQUALS',\n",
    "    'LPAREN','RPAREN',\n",
    "    )\n",
    "\n",
    "# Tokens\n",
    "t_PLUS    = r'\\+'\n",
    "t_MINUS   = r'-'\n",
    "t_TIMES   = r'\\*'\n",
    "t_DIVIDE  = r'/'\n",
    "t_EQUALS  = r'='\n",
    "t_LPAREN  = r'\\('\n",
    "t_RPAREN  = r'\\)'\n",
    "t_NAME    = r'[a-zA-Z_][a-zA-Z0-9_]*'\n",
    "\n",
    "\n",
    "\n",
    "def t_NUMBER(t):\n",
    "    r'\\d+'\n",
    "    try:\n",
    "        t.value = int(t.value)\n",
    "    except ValueError:\n",
    "        print(\"Integer value too large %s\" % t.value)\n",
    "        t.value = 0\n",
    "    return t\n",
    "\n",
    "t_ignore = \" \\t\"\n",
    "\n",
    "def t_newline(t):\n",
    "    r'\\n+'\n",
    "    t.lexer.lineno += t.value.count(\"\\n\")\n",
    "    \n",
    "def t_error(t):\n",
    "    print(\"Illegal character '%s'\" % t.value[0])\n",
    "    t.lexer.skip(1)\n",
    "    \n",
    "\n",
    "__file__=\"Untitled6.ipynb\"\n",
    "lex.lex()\n",
    "lex.runmain(data=\"123423435345366+2+3\")\n",
    "\n",
    "\n",
    "\n"
   ]
  },
  {
   "cell_type": "code",
   "execution_count": null,
   "metadata": {},
   "outputs": [],
   "source": []
  },
  {
   "cell_type": "code",
   "execution_count": null,
   "metadata": {},
   "outputs": [],
   "source": []
  },
  {
   "cell_type": "code",
   "execution_count": 74,
   "metadata": {},
   "outputs": [],
   "source": [
    "trie = {}\n",
    "#https://www.nltk.org/book/ch04.html\n",
    "def insert(trie,key,value,mapped_value):\n",
    "    dct = False\n",
    "    if value:\n",
    "        if key not in trie:\n",
    "                trie[key] = {}\n",
    "        if isinstance(value,dict):\n",
    "            trie[key].update(value)\n",
    "        else:\n",
    "            trie[key] = {value:mapped_value}"
   ]
  },
  {
   "cell_type": "code",
   "execution_count": 233,
   "metadata": {},
   "outputs": [
    {
     "data": {
      "text/plain": [
       "{}"
      ]
     },
     "execution_count": 233,
     "metadata": {},
     "output_type": "execute_result"
    }
   ],
   "source": [
    "trie"
   ]
  },
  {
   "cell_type": "code",
   "execution_count": 234,
   "metadata": {},
   "outputs": [],
   "source": [
    "insert(trie,'\\\\begin{equation}','1+2=6-3','3=3')"
   ]
  },
  {
   "cell_type": "code",
   "execution_count": 235,
   "metadata": {},
   "outputs": [
    {
     "data": {
      "text/plain": [
       "{'\\\\begin{equation}': {'1+2=6-3': '3=3'}}"
      ]
     },
     "execution_count": 235,
     "metadata": {},
     "output_type": "execute_result"
    }
   ],
   "source": [
    "trie"
   ]
  },
  {
   "cell_type": "code",
   "execution_count": 236,
   "metadata": {},
   "outputs": [],
   "source": [
    "data = '''\\\\begin{equation} \n",
    " f(x)=(x+a)(x+b)\n",
    "\\\\end{equation}'''"
   ]
  },
  {
   "cell_type": "code",
   "execution_count": 237,
   "metadata": {},
   "outputs": [],
   "source": [
    "def begin_equation(data):\n",
    "    resp=re.findall(r'\\\\begin{equation}(.*?)\\\\end{equation}',data,re.DOTALL)\n",
    "    if resp:\n",
    "        return {'EQUATION':resp[0].strip()}"
   ]
  },
  {
   "cell_type": "code",
   "execution_count": 238,
   "metadata": {},
   "outputs": [
    {
     "data": {
      "text/plain": [
       "{'EQUATION': 'f(x)=(x+a)(x+b)'}"
      ]
     },
     "execution_count": 238,
     "metadata": {},
     "output_type": "execute_result"
    }
   ],
   "source": [
    "begin_equation(data)"
   ]
  },
  {
   "cell_type": "code",
   "execution_count": 254,
   "metadata": {},
   "outputs": [],
   "source": [
    "['equation','cases','dcases','dcases\\*','alignat','split']\n",
    "def begin_end(data,name):\n",
    "    search_string = \\\n",
    "    r'\\\\begin{' \\\n",
    "    +name+ \\\n",
    "    r'}(.*?)\\\\end{' \\\n",
    "        +name+ \\\n",
    "        '}'\n",
    "    #print(search_string)\n",
    "    resp=re.findall(search_string,data,re.DOTALL)\n",
    "    if resp:\n",
    "        return {name.upper():resp[0].strip()}\n"
   ]
  },
  {
   "cell_type": "code",
   "execution_count": 255,
   "metadata": {},
   "outputs": [],
   "source": [
    "data = '''\\\\begin{equation}\n",
    "  x = a_0 + \\\\frac{1}{a_1 + \\\\frac{1}{a_2 + \\\\frac{1}{a_3 + a_4}}}\n",
    "\\\\end{equation}'''"
   ]
  },
  {
   "cell_type": "code",
   "execution_count": 256,
   "metadata": {},
   "outputs": [
    {
     "data": {
      "text/plain": [
       "{'EQUATION': 'x = a_0 + \\\\frac{1}{a_1 + \\\\frac{1}{a_2 + \\\\frac{1}{a_3 + a_4}}}'}"
      ]
     },
     "execution_count": 256,
     "metadata": {},
     "output_type": "execute_result"
    }
   ],
   "source": [
    "begin_end(data,'equation')"
   ]
  },
  {
   "cell_type": "code",
   "execution_count": 257,
   "metadata": {},
   "outputs": [
    {
     "data": {
      "text/plain": [
       "'x = a_0 + \\\\frac{1}{a_1 + \\\\frac{1}{a_2 + \\\\frac{1}{a_3 + a_4}}}'"
      ]
     },
     "execution_count": 257,
     "metadata": {},
     "output_type": "execute_result"
    }
   ],
   "source": [
    "data = begin_end(data,'equation')['EQUATION']\n",
    "data"
   ]
  },
  {
   "cell_type": "code",
   "execution_count": 258,
   "metadata": {},
   "outputs": [],
   "source": [
    "def frac(data):\n",
    "    #think about a good way to handle nested fractions\n",
    "    resp = re.findall(r'\\\\frac{.*?}',data)\n",
    "    print(resp)\n",
    "    print(len(resp))"
   ]
  },
  {
   "cell_type": "code",
   "execution_count": 259,
   "metadata": {},
   "outputs": [
    {
     "data": {
      "text/plain": [
       "'x = a_0 + \\\\frac{1}{a_1 + \\\\frac{1}{a_2 + \\\\frac{1}{a_3 + a_4}}}'"
      ]
     },
     "execution_count": 259,
     "metadata": {},
     "output_type": "execute_result"
    }
   ],
   "source": [
    "data"
   ]
  },
  {
   "cell_type": "code",
   "execution_count": 260,
   "metadata": {},
   "outputs": [
    {
     "name": "stdout",
     "output_type": "stream",
     "text": [
      "['\\\\frac{1}', '\\\\frac{1}', '\\\\frac{1}']\n",
      "3\n"
     ]
    }
   ],
   "source": [
    "frac(data)"
   ]
  },
  {
   "cell_type": "code",
   "execution_count": null,
   "metadata": {},
   "outputs": [],
   "source": []
  },
  {
   "cell_type": "code",
   "execution_count": null,
   "metadata": {},
   "outputs": [],
   "source": []
  },
  {
   "cell_type": "code",
   "execution_count": null,
   "metadata": {},
   "outputs": [],
   "source": []
  }
 ],
 "metadata": {
  "kernelspec": {
   "display_name": "Python 3",
   "language": "python",
   "name": "python3"
  },
  "language_info": {
   "codemirror_mode": {
    "name": "ipython",
    "version": 3
   },
   "file_extension": ".py",
   "mimetype": "text/x-python",
   "name": "python",
   "nbconvert_exporter": "python",
   "pygments_lexer": "ipython3",
   "version": "3.7.3"
  }
 },
 "nbformat": 4,
 "nbformat_minor": 2
}
